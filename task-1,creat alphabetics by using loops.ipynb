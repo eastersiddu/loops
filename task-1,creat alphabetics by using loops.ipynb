{
 "cells": [
  {
   "cell_type": "code",
   "execution_count": 15,
   "id": "c8d8b531",
   "metadata": {},
   "outputs": [
    {
     "name": "stdout",
     "output_type": "stream",
     "text": [
      "  * * *   \n",
      "*       *\n",
      "*       *\n",
      "*       *\n",
      "  * * *   * *\n"
     ]
    }
   ],
   "source": [
    "a=1\n",
    "while a<=5:\n",
    "    if a==1:\n",
    "        print(\"  * * *   \")\n",
    "    elif a==2:\n",
    "        print(\"*       *\")\n",
    "    elif a==3:\n",
    "        print(\"*       *\")\n",
    "    elif a==4: \n",
    "        print(\"*       *\")\n",
    "    elif a==5:\n",
    "        print(\"  * * *   * *\")\n",
    "    \n",
    "    a=a+1\n",
    "    "
   ]
  },
  {
   "cell_type": "code",
   "execution_count": 21,
   "id": "3f917344",
   "metadata": {},
   "outputs": [
    {
     "name": "stdout",
     "output_type": "stream",
     "text": [
      "*    \n",
      "*       \n",
      "* * *  * \n",
      "*       *\n",
      " * * * * \n"
     ]
    }
   ],
   "source": [
    "a=1\n",
    "while a<=5:\n",
    "    if a==1:\n",
    "        print(\"*    \")\n",
    "    elif a==2:\n",
    "        print(\"*       \")\n",
    "    elif a==3:\n",
    "        print(\"* * *  * \")\n",
    "    elif a==4: \n",
    "        print(\"*       *\")\n",
    "    elif a==5:\n",
    "        print(\" * * * * \")\n",
    "    \n",
    "    a=a+1"
   ]
  },
  {
   "cell_type": "code",
   "execution_count": 23,
   "id": "89113cf2",
   "metadata": {},
   "outputs": [
    {
     "name": "stdout",
     "output_type": "stream",
     "text": [
      "  * * *   \n",
      "*       \n",
      "*       \n",
      "*       \n",
      "  * * * \n"
     ]
    }
   ],
   "source": [
    "a=1\n",
    "while a<=5:\n",
    "    if a==1:\n",
    "        print(\"  * * *   \")\n",
    "    elif a==2:\n",
    "        print(\"*       \")\n",
    "    elif a==3:\n",
    "        print(\"*       \")\n",
    "    elif a==4: \n",
    "        print(\"*       \")\n",
    "    elif a==5:\n",
    "        print(\"  * * * \")\n",
    "    \n",
    "    a=a+1"
   ]
  },
  {
   "cell_type": "code",
   "execution_count": 34,
   "id": "e3f67b90",
   "metadata": {},
   "outputs": [
    {
     "name": "stdout",
     "output_type": "stream",
     "text": [
      "        *\n",
      "        *\n",
      "  * * * *\n",
      "*       *\n",
      " * * * * \n"
     ]
    }
   ],
   "source": [
    "a=1\n",
    "while a<=5:\n",
    "    if a==1:\n",
    "        print(\"        *\")\n",
    "    elif a==2:\n",
    "        print(\"        *\")\n",
    "    elif a==3:\n",
    "        print(\"  * * * *\")\n",
    "    elif a==4:\n",
    "        print(\"*       *\")\n",
    "    elif a==5:\n",
    "        print(\" * * * * \")\n",
    "        \n",
    "    a=a+1"
   ]
  },
  {
   "cell_type": "code",
   "execution_count": 53,
   "id": "dc5d1238",
   "metadata": {},
   "outputs": [
    {
     "name": "stdout",
     "output_type": "stream",
     "text": [
      "  * * * *\n",
      "*        *\n",
      "*   * * * \n",
      "*       \n",
      "  * * * * \n"
     ]
    }
   ],
   "source": [
    "a=1\n",
    "while a<=5:\n",
    "    if a==1:\n",
    "        print(\"  * * * *\")\n",
    "    elif a==2:\n",
    "        print(\"*        *\")\n",
    "    elif a==3:\n",
    "        print(\"*   * * * \")\n",
    "    elif a==4: \n",
    "        print(\"*       \")\n",
    "    elif a==5:\n",
    "        print(\"  * * * * \")\n",
    "    \n",
    "    a=a+1"
   ]
  },
  {
   "cell_type": "code",
   "execution_count": 58,
   "id": "d07c14e0",
   "metadata": {},
   "outputs": [
    {
     "name": "stdout",
     "output_type": "stream",
     "text": [
      " * * * *\n",
      "*        \n",
      "* * * * \n",
      "*       \n",
      "*  \n"
     ]
    }
   ],
   "source": [
    "a=1\n",
    "while a<=5:\n",
    "    if a==1:\n",
    "        print(\" * * * *\")\n",
    "    elif a==2:\n",
    "        print(\"*        \")\n",
    "    elif a==3:\n",
    "        print(\"* * * * \")\n",
    "    elif a==4: \n",
    "        print(\"*       \")\n",
    "    elif a==5:\n",
    "        print(\"*  \")\n",
    "    \n",
    "    a=a+1"
   ]
  },
  {
   "cell_type": "code",
   "execution_count": 72,
   "id": "1d6b9be7",
   "metadata": {},
   "outputs": [
    {
     "name": "stdout",
     "output_type": "stream",
     "text": [
      "* * * * \n",
      "*     *\n",
      "* * * *\n",
      "      *\n",
      "* * * *\n"
     ]
    }
   ],
   "source": [
    "a=1\n",
    "while a<=5:\n",
    "    if a==1:\n",
    "        print(\"* * * * \")\n",
    "    elif a==2:\n",
    "        print(\"*     *\")\n",
    "    elif a==3:\n",
    "        print(\"* * * *\")\n",
    "    elif a==4: \n",
    "        print(\"      *\")\n",
    "    elif a==5:\n",
    "        print(\"* * * *\")\n",
    "    \n",
    "    a=a+1"
   ]
  },
  {
   "cell_type": "code",
   "execution_count": 74,
   "id": "af92acf8",
   "metadata": {},
   "outputs": [
    {
     "name": "stdout",
     "output_type": "stream",
     "text": [
      "*     \n",
      "*     \n",
      "* * * *\n",
      "*     *\n",
      "*     *\n"
     ]
    }
   ],
   "source": [
    "a=1\n",
    "while a<=5:\n",
    "    if a==1:\n",
    "        print(\"*     \")\n",
    "    elif a==2:\n",
    "        print(\"*     \")\n",
    "    elif a==3:\n",
    "        print(\"* * * *\")\n",
    "    elif a==4: \n",
    "        print(\"*     *\")\n",
    "    elif a==5:\n",
    "        print(\"*     *\")\n",
    "    \n",
    "    a=a+1"
   ]
  },
  {
   "cell_type": "code",
   "execution_count": 14,
   "id": "3bb7c21e",
   "metadata": {},
   "outputs": [
    {
     "name": "stdout",
     "output_type": "stream",
     "text": [
      "  * * \n",
      "  \n",
      "  * * \n",
      "  * * \n",
      "  * * \n"
     ]
    }
   ],
   "source": [
    "a=1\n",
    "while a<=5:\n",
    "    if a==1:\n",
    "        print(\"  * * \")\n",
    "    elif a==2:\n",
    "        print(\"  \")\n",
    "    elif a==3:\n",
    "        print(\"  * * \")\n",
    "    elif a==4: \n",
    "        print(\"  * * \")\n",
    "    elif a==5:\n",
    "        print(\"  * * \")\n",
    "    \n",
    "    a=a+1"
   ]
  },
  {
   "cell_type": "code",
   "execution_count": 15,
   "id": "cb8e8101",
   "metadata": {},
   "outputs": [
    {
     "name": "stdout",
     "output_type": "stream",
     "text": [
      "       *\n",
      "       *\n",
      "       *\n",
      " *     *\n",
      "  * * *\n"
     ]
    }
   ],
   "source": [
    "a=1\n",
    "while a<=5:\n",
    "    if a==1:\n",
    "        print(\"       *\")\n",
    "    elif a==2:\n",
    "        print(\"       *\")\n",
    "    elif a==3:\n",
    "        print(\"       *\")\n",
    "    elif a==4:\n",
    "        print(\" *     *\")\n",
    "    elif a==5:\n",
    "        print(\"  * * *\")\n",
    "        \n",
    "    a=a+1\n",
    "        "
   ]
  },
  {
   "cell_type": "code",
   "execution_count": 10,
   "id": "2d4e5410",
   "metadata": {},
   "outputs": [
    {
     "name": "stdout",
     "output_type": "stream",
     "text": [
      "*     *\n",
      "*   *\n",
      "* *  \n",
      "*   * \n",
      "*     * \n"
     ]
    }
   ],
   "source": [
    "a=1\n",
    "while a<=5:\n",
    "    if a==1:\n",
    "        print(\"*     *\")\n",
    "    elif a==2:\n",
    "        print(\"*   *\")\n",
    "    elif a==3:\n",
    "        print(\"* *  \")\n",
    "    elif a==4: \n",
    "        print(\"*   * \")\n",
    "    elif a==5:\n",
    "        print(\"*     * \")\n",
    "    \n",
    "    a=a+1"
   ]
  },
  {
   "cell_type": "code",
   "execution_count": 16,
   "id": "d1139181",
   "metadata": {},
   "outputs": [
    {
     "name": "stdout",
     "output_type": "stream",
     "text": [
      "* *\n",
      "* *       \n",
      "* *  \n",
      "* **     \n",
      "* *** \n"
     ]
    }
   ],
   "source": [
    "a=1\n",
    "while a<=5:\n",
    "    if a==1:\n",
    "        print(\"* *\")\n",
    "    elif a==2:\n",
    "        print(\"* *       \")\n",
    "    elif a==3:\n",
    "        print(\"* *  \")\n",
    "    elif a==4: \n",
    "        print(\"* **     \")\n",
    "    elif a==5:\n",
    "        print(\"* *** \")\n",
    "    \n",
    "    a=a+1"
   ]
  },
  {
   "cell_type": "code",
   "execution_count": 37,
   "id": "e8f6c12a",
   "metadata": {},
   "outputs": [
    {
     "name": "stdout",
     "output_type": "stream",
     "text": [
      "\n",
      "    * * * *  \n",
      "   *   *   * \n",
      "   *   *   *\n",
      "   *       * \n"
     ]
    }
   ],
   "source": [
    "a=1\n",
    "while a<=5:\n",
    "    if a==1:\n",
    "        print(\" \")\n",
    "    elif a==2:\n",
    "        print(\"    * * * *  \")\n",
    "    elif a==3:\n",
    "        print(\"   *   *   * \")\n",
    "    elif a==4:   \n",
    "        print(\"   *   *   *\")\n",
    "    elif a==5:\n",
    "        print(\"   *       * \")\n",
    "    \n",
    "    a=a+1"
   ]
  },
  {
   "cell_type": "code",
   "execution_count": 35,
   "id": "2567af62",
   "metadata": {},
   "outputs": [
    {
     "name": "stdout",
     "output_type": "stream",
     "text": [
      "* \n",
      "  * * * * \n",
      " *       *\n",
      " *       *\n",
      " *       *\n"
     ]
    }
   ],
   "source": [
    "a=1\n",
    "while a<=5:\n",
    "    if a==1:\n",
    "        print(\"* \")\n",
    "    elif a==2:\n",
    "        print(\"  * * * * \")\n",
    "    elif a==3:\n",
    "        print(\" *       *\")\n",
    "    elif a==4: \n",
    "        print(\" *       *\")\n",
    "    elif a==5:\n",
    "        print(\" *       *\")\n",
    "    \n",
    "    a=a+1"
   ]
  },
  {
   "cell_type": "code",
   "execution_count": 130,
   "id": "07137748",
   "metadata": {},
   "outputs": [
    {
     "name": "stdout",
     "output_type": "stream",
     "text": [
      "  * * *\n",
      "*       *\n",
      "*       *\n",
      "*       *\n",
      "  * * *  \n"
     ]
    }
   ],
   "source": [
    "a=1\n",
    "while a<=5:\n",
    "    if a==1:\n",
    "        print(\"  * * *\")\n",
    "    elif a==2:\n",
    "        print(\"*       *\")\n",
    "    elif a==3:\n",
    "        print(\"*       *\")\n",
    "    elif a==4: \n",
    "        print(\"*       *\")\n",
    "    elif a==5:\n",
    "        print(\"  * * *  \")\n",
    "    \n",
    "    a=a+1"
   ]
  },
  {
   "cell_type": "code",
   "execution_count": 42,
   "id": "80ed1826",
   "metadata": {},
   "outputs": [
    {
     "name": "stdout",
     "output_type": "stream",
     "text": [
      " * * * *\n",
      "*       *\n",
      "* * * * \n",
      "*       \n",
      "*  \n"
     ]
    }
   ],
   "source": [
    "a=1\n",
    "while a<=5:\n",
    "    if a==1:\n",
    "        print(\" * * * *\")\n",
    "    elif a==2:\n",
    "        print(\"*       *\")\n",
    "    elif a==3:\n",
    "        print(\"* * * * \")\n",
    "    elif a==4: \n",
    "        print(\"*       \")\n",
    "    elif a==5:\n",
    "        print(\"*  \")\n",
    "    \n",
    "    a=a+1"
   ]
  },
  {
   "cell_type": "code",
   "execution_count": 53,
   "id": "c76bfa55",
   "metadata": {},
   "outputs": [
    {
     "name": "stdout",
     "output_type": "stream",
     "text": [
      "* * * * \n",
      "*     *\n",
      "* * * *   *\n",
      "      * *\n",
      "      * \n"
     ]
    }
   ],
   "source": [
    "a=1\n",
    "while a<=5:\n",
    "    if a==1:\n",
    "        print(\"* * * * \")\n",
    "    elif a==2:\n",
    "        print(\"*     *\")\n",
    "    elif a==3:\n",
    "        print(\"* * * *   *\")\n",
    "    elif a==4: \n",
    "        print(\"      * *\")\n",
    "    elif a==5:\n",
    "        print(\"      * \")\n",
    "    \n",
    "    a=a+1"
   ]
  },
  {
   "cell_type": "code",
   "execution_count": 132,
   "id": "593d54a6",
   "metadata": {},
   "outputs": [
    {
     "name": "stdout",
     "output_type": "stream",
     "text": [
      "*  \n",
      "* * * * \n",
      "*       * \n",
      "*\n",
      "*  \n"
     ]
    }
   ],
   "source": [
    "a=1\n",
    "while a<=5:\n",
    "    if a==1:\n",
    "        print(\"*  \")\n",
    "    elif a==2:\n",
    "        print(\"* * * * \")\n",
    "    elif a==3:\n",
    "        print(\"*       * \")\n",
    "    elif a==4: \n",
    "        print(\"*\")\n",
    "    elif a==5:\n",
    "        print(\"*  \")\n",
    "    \n",
    "    a=a+1"
   ]
  },
  {
   "cell_type": "code",
   "execution_count": 70,
   "id": "7d25947b",
   "metadata": {},
   "outputs": [
    {
     "name": "stdout",
     "output_type": "stream",
     "text": [
      " * * * *  \n",
      " *       \n",
      " * * * * \n",
      "       *\n",
      " * * * * \n"
     ]
    }
   ],
   "source": [
    "a=1\n",
    "while a<=5:\n",
    "    if a==1:\n",
    "        print(\" * * * *  \")\n",
    "    elif a==2:\n",
    "        print(\" *       \")\n",
    "    elif a==3:\n",
    "        print(\" * * * * \")\n",
    "    elif a==4: \n",
    "        print(\"       *\")\n",
    "    elif a==5:\n",
    "        print(\" * * * * \")\n",
    "    \n",
    "    a=a+1"
   ]
  },
  {
   "cell_type": "code",
   "execution_count": 72,
   "id": "635506d8",
   "metadata": {},
   "outputs": [
    {
     "name": "stdout",
     "output_type": "stream",
     "text": [
      "* \n",
      "*  \n",
      "* * * * \n",
      "*\n",
      "* * * * \n"
     ]
    }
   ],
   "source": [
    "a=1\n",
    "while a<=5:\n",
    "    if a==1:\n",
    "        print(\"* \")\n",
    "    elif a==2:\n",
    "        print(\"*  \")\n",
    "    elif a==3:\n",
    "        print(\"* * * * \")\n",
    "    elif a==4: \n",
    "        print(\"*\")\n",
    "    elif a==5:\n",
    "        print(\"* * * * \")\n",
    "    \n",
    "    a=a+1"
   ]
  },
  {
   "cell_type": "code",
   "execution_count": 79,
   "id": "c43962bc",
   "metadata": {},
   "outputs": [
    {
     "name": "stdout",
     "output_type": "stream",
     "text": [
      " *       * \n",
      " *       *  \n",
      " *       * \n",
      " *       *\n",
      "   * * *  * \n"
     ]
    }
   ],
   "source": [
    "a=1\n",
    "while a<=5:\n",
    "    if a==1:\n",
    "        print(\" *       * \")\n",
    "    elif a==2:\n",
    "        print(\" *       *  \")\n",
    "    elif a==3:\n",
    "        print(\" *       * \")\n",
    "    elif a==4: \n",
    "        print(\" *       *\")\n",
    "    elif a==5:\n",
    "        print(\"   * * *  * \")\n",
    "    \n",
    "    a=a+1"
   ]
  },
  {
   "cell_type": "code",
   "execution_count": 88,
   "id": "425d1253",
   "metadata": {},
   "outputs": [
    {
     "name": "stdout",
     "output_type": "stream",
     "text": [
      " *         *\n",
      "  *       *\n",
      "   *     *\n",
      "    *   *\n",
      "      * \n"
     ]
    }
   ],
   "source": [
    "a=1\n",
    "while a<=5:\n",
    "    if a==1:\n",
    "        print(\" *         * \")\n",
    "    elif a==2:\n",
    "        print(\"  *       * \")\n",
    "    elif a==3:\n",
    "        print(\"   *     * \")\n",
    "    elif a==4: \n",
    "        print(\"    *   * \")\n",
    "    elif a==5:\n",
    "        print(\"      *   \")\n",
    "    \n",
    "    a=a+1"
   ]
  },
  {
   "cell_type": "code",
   "execution_count": 105,
   "id": "e00222bc",
   "metadata": {},
   "outputs": [
    {
     "name": "stdout",
     "output_type": "stream",
     "text": [
      "*          * \n",
      "*          *\n",
      "*    **    * \n",
      "*   *  *   * \n",
      " * *    * *  \n"
     ]
    }
   ],
   "source": [
    "a=1\n",
    "while a<=5:\n",
    "    if a==1:\n",
    "        print(\"*          * \")\n",
    "    elif a==2:\n",
    "        print(\"*          *\")\n",
    "    elif a==3:\n",
    "        print(\"*    **    * \")\n",
    "    elif a==4: \n",
    "        print(\"*   *  *   * \")\n",
    "    elif a==5:\n",
    "        print(\" * *    * *  \")\n",
    "    \n",
    "    a=a+1"
   ]
  },
  {
   "cell_type": "code",
   "execution_count": 112,
   "id": "eb1ffe93",
   "metadata": {},
   "outputs": [
    {
     "name": "stdout",
     "output_type": "stream",
     "text": [
      "*        *\n",
      "  *    *  \n",
      "     *     \n",
      "  *    *  \n",
      "*        *\n"
     ]
    }
   ],
   "source": [
    "a=1\n",
    "while a<=5:\n",
    "    if a==1:\n",
    "        print(\"*        *\")\n",
    "    elif a==2:\n",
    "        print(\"  *    *  \")\n",
    "    elif a==3:\n",
    "        print(\"     *     \")\n",
    "    elif a==4:\n",
    "        print(\"  *    *  \")\n",
    "    elif a==5:\n",
    "        print(\"*        *\")\n",
    "    a=a+1"
   ]
  },
  {
   "cell_type": "code",
   "execution_count": 117,
   "id": "f2a5b570",
   "metadata": {},
   "outputs": [
    {
     "name": "stdout",
     "output_type": "stream",
     "text": [
      " *      * \n",
      " *      *\n",
      "  * * * * \n",
      "        *\n",
      "  * * * \n"
     ]
    }
   ],
   "source": [
    "a=1\n",
    "while a<=5:\n",
    "    if a==1:\n",
    "        print(\" *      * \")\n",
    "    elif a==2:\n",
    "        print(\" *      *\")\n",
    "    elif a==3:\n",
    "        print(\"  * * * * \")\n",
    "    elif a==4: \n",
    "        print(\"        *\")\n",
    "    elif a==5:\n",
    "        print(\"  * * * \")\n",
    "    \n",
    "    a=a+1"
   ]
  },
  {
   "cell_type": "code",
   "execution_count": 126,
   "id": "77d050ca",
   "metadata": {},
   "outputs": [
    {
     "name": "stdout",
     "output_type": "stream",
     "text": [
      "* * * * \n",
      "     * \n",
      "    * \n",
      "  *\n",
      "* * * * \n"
     ]
    }
   ],
   "source": [
    "a=1\n",
    "while a<=5:\n",
    "    if a==1:\n",
    "        print(\"* * * * \")\n",
    "    elif a==2:\n",
    "        print(\"     * \")\n",
    "    elif a==3:\n",
    "        print(\"    * \")\n",
    "    elif a==4: \n",
    "        print(\"  *\")\n",
    "    elif a==5:\n",
    "        print(\"* * * * \")\n",
    "    \n",
    "    a=a+1"
   ]
  },
  {
   "cell_type": "code",
   "execution_count": null,
   "id": "8caf5873",
   "metadata": {},
   "outputs": [],
   "source": []
  }
 ],
 "metadata": {
  "kernelspec": {
   "display_name": "Python 3 (ipykernel)",
   "language": "python",
   "name": "python3"
  },
  "language_info": {
   "codemirror_mode": {
    "name": "ipython",
    "version": 3
   },
   "file_extension": ".py",
   "mimetype": "text/x-python",
   "name": "python",
   "nbconvert_exporter": "python",
   "pygments_lexer": "ipython3",
   "version": "3.9.13"
  }
 },
 "nbformat": 4,
 "nbformat_minor": 5
}
