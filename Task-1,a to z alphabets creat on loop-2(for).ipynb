{
 "cells": [
  {
   "cell_type": "code",
   "execution_count": 2,
   "id": "9455baf0",
   "metadata": {},
   "outputs": [
    {
     "name": "stdout",
     "output_type": "stream",
     "text": [
      "  * * *   \n",
      "*       *\n",
      "*       *\n",
      "*       *\n",
      "  * * *   * *\n"
     ]
    }
   ],
   "source": [
    "#a\n",
    "for a in range(6):\n",
    "    if a==1:\n",
    "        print(\"  * * *   \")\n",
    "    elif a==2:\n",
    "        print(\"*       *\")\n",
    "    elif a==3:\n",
    "        print(\"*       *\")\n",
    "    elif a==4: \n",
    "        print(\"*       *\")\n",
    "    elif a==5:\n",
    "        print(\"  * * *   * *\")\n",
    "    \n",
    "    \n",
    "    "
   ]
  },
  {
   "cell_type": "code",
   "execution_count": 3,
   "id": "cd1d5d70",
   "metadata": {},
   "outputs": [
    {
     "name": "stdout",
     "output_type": "stream",
     "text": [
      "*    \n",
      "*       \n",
      "* * *  * \n",
      "*       *\n",
      " * * * * \n"
     ]
    }
   ],
   "source": [
    "#b\n",
    "for a in range(6):\n",
    "    if a==1:\n",
    "        print(\"*    \")\n",
    "    elif a==2:\n",
    "        print(\"*       \")\n",
    "    elif a==3:\n",
    "        print(\"* * *  * \")\n",
    "    elif a==4: \n",
    "        print(\"*       *\")\n",
    "    elif a==5:\n",
    "        print(\" * * * * \")\n",
    "    \n",
    "    "
   ]
  },
  {
   "cell_type": "code",
   "execution_count": 5,
   "id": "b7a76b1b",
   "metadata": {},
   "outputs": [
    {
     "name": "stdout",
     "output_type": "stream",
     "text": [
      "  * * *   \n",
      "*       \n",
      "*       \n",
      "*       \n",
      "  * * * \n"
     ]
    }
   ],
   "source": [
    "#c\n",
    "for a in range(6):\n",
    "    if a==1:\n",
    "        print(\"  * * *   \")\n",
    "    elif a==2:\n",
    "        print(\"*       \")\n",
    "    elif a==3:\n",
    "        print(\"*       \")\n",
    "    elif a==4: \n",
    "        print(\"*       \")\n",
    "    elif a==5:\n",
    "        print(\"  * * * \")\n",
    "    \n",
    "    \n",
    "    "
   ]
  },
  {
   "cell_type": "code",
   "execution_count": 6,
   "id": "c27563aa",
   "metadata": {},
   "outputs": [
    {
     "name": "stdout",
     "output_type": "stream",
     "text": [
      "        *\n",
      "        *\n",
      "  * * * *\n",
      "*       *\n",
      " * * * * \n"
     ]
    }
   ],
   "source": [
    "#d\n",
    "for a in range(6):\n",
    "    if a==1:\n",
    "        print(\"        *\")\n",
    "    elif a==2:\n",
    "        print(\"        *\")\n",
    "    elif a==3:\n",
    "        print(\"  * * * *\")\n",
    "    elif a==4:\n",
    "        print(\"*       *\")\n",
    "    elif a==5:\n",
    "        print(\" * * * * \")\n",
    "        \n",
    "    "
   ]
  },
  {
   "cell_type": "code",
   "execution_count": 7,
   "id": "3c82de32",
   "metadata": {},
   "outputs": [
    {
     "name": "stdout",
     "output_type": "stream",
     "text": [
      "  * * * *\n",
      "*        *\n",
      "*   * * * \n",
      "*       \n",
      "  * * * * \n"
     ]
    }
   ],
   "source": [
    "#e\n",
    "for a in range(6):\n",
    "    if a==1:\n",
    "        print(\"  * * * *\")\n",
    "    elif a==2:\n",
    "        print(\"*        *\")\n",
    "    elif a==3:\n",
    "        print(\"*   * * * \")\n",
    "    elif a==4: \n",
    "        print(\"*       \")\n",
    "    elif a==5:\n",
    "        print(\"  * * * * \")\n",
    "    "
   ]
  },
  {
   "cell_type": "code",
   "execution_count": 8,
   "id": "06d07ed7",
   "metadata": {},
   "outputs": [
    {
     "name": "stdout",
     "output_type": "stream",
     "text": [
      " * * * *\n",
      "*        \n",
      "* * * * \n",
      "*       \n",
      "*  \n"
     ]
    }
   ],
   "source": [
    "#f\n",
    "for a in range(6):\n",
    "    if a==1:\n",
    "        print(\" * * * *\")\n",
    "    elif a==2:\n",
    "        print(\"*        \")\n",
    "    elif a==3:\n",
    "        print(\"* * * * \")\n",
    "    elif a==4: \n",
    "        print(\"*       \")\n",
    "    elif a==5:\n",
    "        print(\"*  \")\n",
    "    \n",
    "    "
   ]
  },
  {
   "cell_type": "code",
   "execution_count": 13,
   "id": "056c3a73",
   "metadata": {},
   "outputs": [
    {
     "name": "stdout",
     "output_type": "stream",
     "text": [
      "  * * * \n",
      "*     *\n",
      "  * * *\n",
      "      *\n",
      "* * * \n"
     ]
    }
   ],
   "source": [
    "#g\n",
    "for a in range(6):\n",
    "    if a==1:\n",
    "        print(\"  * * * \")\n",
    "    elif a==2:\n",
    "        print(\"*     *\")\n",
    "    elif a==3:\n",
    "        print(\"  * * *\")\n",
    "    elif a==4: \n",
    "        print(\"      *\")\n",
    "    elif a==5:\n",
    "        print(\"* * * \")\n",
    "    "
   ]
  },
  {
   "cell_type": "code",
   "execution_count": 14,
   "id": "ac4be25d",
   "metadata": {},
   "outputs": [
    {
     "name": "stdout",
     "output_type": "stream",
     "text": [
      "*     \n",
      "*     \n",
      "* * *  \n",
      "*     *\n",
      "*     *\n"
     ]
    }
   ],
   "source": [
    "#h\n",
    "for a in range(6):\n",
    "    if a==1:\n",
    "        print(\"*     \")\n",
    "    elif a==2:\n",
    "        print(\"*     \")\n",
    "    elif a==3:\n",
    "        print(\"* * *  \")\n",
    "    elif a==4: \n",
    "        print(\"*     *\")\n",
    "    elif a==5:\n",
    "        print(\"*     *\")\n",
    "    \n",
    "    "
   ]
  },
  {
   "cell_type": "code",
   "execution_count": 15,
   "id": "4804eab5",
   "metadata": {},
   "outputs": [
    {
     "name": "stdout",
     "output_type": "stream",
     "text": [
      "  * * \n",
      "  \n",
      "  * * \n",
      "  * * \n",
      "  * * \n"
     ]
    }
   ],
   "source": [
    "#i\n",
    "for a in range(6):\n",
    "    if a==1:\n",
    "        print(\"  * * \")\n",
    "    elif a==2:\n",
    "        print(\"  \")\n",
    "    elif a==3:\n",
    "        print(\"  * * \")\n",
    "    elif a==4: \n",
    "        print(\"  * * \")\n",
    "    elif a==5:\n",
    "        print(\"  * * \")\n",
    "    \n",
    "    "
   ]
  },
  {
   "cell_type": "code",
   "execution_count": 2,
   "id": "eff40fcf",
   "metadata": {},
   "outputs": [
    {
     "name": "stdout",
     "output_type": "stream",
     "text": [
      "       *\n",
      "        \n",
      "       *\n",
      " *     *\n",
      "  * * *\n"
     ]
    }
   ],
   "source": [
    "#j\n",
    "for a in range(6):\n",
    "    if a==1:\n",
    "        print(\"       *\")\n",
    "    elif a==2:\n",
    "        print(\"        \")\n",
    "    elif a==3:\n",
    "        print(\"       *\")\n",
    "    elif a==4:\n",
    "        print(\" *     *\")\n",
    "    elif a==5:\n",
    "        print(\"  * * *\")\n",
    "        \n",
    "        "
   ]
  },
  {
   "cell_type": "code",
   "execution_count": 6,
   "id": "2a089040",
   "metadata": {},
   "outputs": [
    {
     "name": "stdout",
     "output_type": "stream",
     "text": [
      "*     \n",
      "*   *\n",
      "* * \n",
      "*  * \n",
      "*    * \n"
     ]
    }
   ],
   "source": [
    "#k\n",
    "for a in range(6):\n",
    "    if a==1:\n",
    "        print(\"*     \")\n",
    "    elif a==2:\n",
    "        print(\"*   *\")\n",
    "    elif a==3:\n",
    "        print(\"* * \")\n",
    "    elif a==4: \n",
    "        print(\"*  * \")\n",
    "    elif a==5:\n",
    "        print(\"*    * \")\n",
    "    \n",
    "    "
   ]
  },
  {
   "cell_type": "code",
   "execution_count": 10,
   "id": "7ed2f93c",
   "metadata": {},
   "outputs": [
    {
     "name": "stdout",
     "output_type": "stream",
     "text": [
      "* *\n",
      "* *       \n",
      "* *   \n",
      "* **     \n",
      "* *** \n"
     ]
    }
   ],
   "source": [
    "#l\n",
    "for a in range(6):\n",
    "    if a==1:\n",
    "        print(\"* *\")\n",
    "    elif a==2:\n",
    "        print(\"* *       \")\n",
    "    elif a==3:\n",
    "        print(\"* *   \")\n",
    "    elif a==4: \n",
    "        print(\"* **     \")\n",
    "    elif a==5:\n",
    "        print(\"* *** \")\n",
    "    \n",
    "   "
   ]
  },
  {
   "cell_type": "code",
   "execution_count": 12,
   "id": "0c960a0b",
   "metadata": {},
   "outputs": [
    {
     "name": "stdout",
     "output_type": "stream",
     "text": [
      " \n",
      "    * * * *  \n",
      "   *   *   * \n",
      "   *   *   *\n",
      "   *       * \n"
     ]
    }
   ],
   "source": [
    "#m\n",
    "for a in range(6):\n",
    "    if a==1:\n",
    "        print(\" \")\n",
    "    elif a==2:\n",
    "        print(\"    * * * *  \")\n",
    "    elif a==3:\n",
    "        print(\"   *   *   * \")\n",
    "    elif a==4:   \n",
    "        print(\"   *   *   *\")\n",
    "    elif a==5:\n",
    "        print(\"   *       * \")\n",
    "    "
   ]
  },
  {
   "cell_type": "code",
   "execution_count": 13,
   "id": "c826050f",
   "metadata": {},
   "outputs": [
    {
     "name": "stdout",
     "output_type": "stream",
     "text": [
      "* \n",
      "  * * * * \n",
      " *       *\n",
      " *       *\n",
      " *       *\n"
     ]
    }
   ],
   "source": [
    "#n\n",
    "for a in range(6):\n",
    "    if a==1:\n",
    "        print(\"* \")\n",
    "    elif a==2:\n",
    "        print(\"  * * * * \")\n",
    "    elif a==3:\n",
    "        print(\" *       *\")\n",
    "    elif a==4: \n",
    "        print(\" *       *\")\n",
    "    elif a==5:\n",
    "        print(\" *       *\")\n",
    "    "
   ]
  },
  {
   "cell_type": "code",
   "execution_count": 14,
   "id": "b23e9e8d",
   "metadata": {},
   "outputs": [
    {
     "name": "stdout",
     "output_type": "stream",
     "text": [
      "  * * *\n",
      "*       *\n",
      "*       *\n",
      "*       *\n",
      "  * * *  \n"
     ]
    }
   ],
   "source": [
    "#o\n",
    "for a in range(6):\n",
    "    if a==1:\n",
    "        print(\"  * * *\")\n",
    "    elif a==2:\n",
    "        print(\"*       *\")\n",
    "    elif a==3:\n",
    "        print(\"*       *\")\n",
    "    elif a==4: \n",
    "        print(\"*       *\")\n",
    "    elif a==5:\n",
    "        print(\"  * * *  \")\n",
    "    "
   ]
  },
  {
   "cell_type": "code",
   "execution_count": 16,
   "id": "68f320de",
   "metadata": {},
   "outputs": [
    {
     "name": "stdout",
     "output_type": "stream",
     "text": [
      " * * * *\n",
      "*       *\n",
      "* * * * \n",
      "*       \n",
      "*  \n"
     ]
    }
   ],
   "source": [
    "#p\n",
    "for a in range(6):\n",
    "    if a==1:\n",
    "        print(\" * * * *\")\n",
    "    elif a==2:\n",
    "        print(\"*       *\")\n",
    "    elif a==3:\n",
    "        print(\"* * * * \")\n",
    "    elif a==4: \n",
    "        print(\"*       \")\n",
    "    elif a==5:\n",
    "        print(\"*  \")\n",
    "    "
   ]
  },
  {
   "cell_type": "code",
   "execution_count": 17,
   "id": "813577c4",
   "metadata": {},
   "outputs": [
    {
     "name": "stdout",
     "output_type": "stream",
     "text": [
      "  * * * \n",
      "*     *\n",
      "  * * *   *\n",
      "      * *\n",
      "      * \n"
     ]
    }
   ],
   "source": [
    "#q\n",
    "for a in range(6):\n",
    "    if a==1:\n",
    "        print(\"  * * * \")\n",
    "    elif a==2:\n",
    "        print(\"*     *\")\n",
    "    elif a==3:\n",
    "        print(\"  * * *   *\")\n",
    "    elif a==4: \n",
    "        print(\"      * *\")\n",
    "    elif a==5:\n",
    "        print(\"      * \")\n",
    "    \n",
    "   "
   ]
  },
  {
   "cell_type": "code",
   "execution_count": 18,
   "id": "78d0d7cc",
   "metadata": {},
   "outputs": [
    {
     "name": "stdout",
     "output_type": "stream",
     "text": [
      "*  \n",
      "* * * * \n",
      "*        \n",
      "*\n",
      "*  \n"
     ]
    }
   ],
   "source": [
    "#r\n",
    "for a in range(6):\n",
    "    if a==1:\n",
    "        print(\"*  \")\n",
    "    elif a==2:\n",
    "        print(\"* * * * \")\n",
    "    elif a==3:\n",
    "        print(\"*        \")\n",
    "    elif a==4: \n",
    "        print(\"*\")\n",
    "    elif a==5:\n",
    "        print(\"*  \")\n",
    "    \n",
    "    a=a+1"
   ]
  },
  {
   "cell_type": "code",
   "execution_count": 29,
   "id": "afe3b5be",
   "metadata": {},
   "outputs": [
    {
     "name": "stdout",
     "output_type": "stream",
     "text": [
      "  * * *  \n",
      " *       \n",
      "  * *   \n",
      "      *\n",
      " * * *   \n"
     ]
    }
   ],
   "source": [
    "#s\n",
    "for a in range(6):\n",
    "    if a==1:\n",
    "        print(\"  * * *  \")\n",
    "    elif a==2:\n",
    "        print(\" *       \")\n",
    "    elif a==3:\n",
    "        print(\"  * *   \")\n",
    "    elif a==4: \n",
    "        print(\"      *\")\n",
    "    elif a==5:\n",
    "        print(\" * * *   \")\n",
    "    \n",
    "    "
   ]
  },
  {
   "cell_type": "code",
   "execution_count": 34,
   "id": "1332f117",
   "metadata": {},
   "outputs": [
    {
     "name": "stdout",
     "output_type": "stream",
     "text": [
      " * \n",
      " *  \n",
      "* * * * \n",
      " *\n",
      "  * * *  \n"
     ]
    }
   ],
   "source": [
    "#t\n",
    "for a in range(6):\n",
    "    if a==1:\n",
    "        print(\" * \")\n",
    "    elif a==2:\n",
    "        print(\" *  \")\n",
    "    elif a==3:\n",
    "        print(\"* * * * \")\n",
    "    elif a==4: \n",
    "        print(\" *\")\n",
    "    elif a==5:\n",
    "        print(\"  * * *  \")\n",
    "    "
   ]
  },
  {
   "cell_type": "code",
   "execution_count": 35,
   "id": "1119303f",
   "metadata": {},
   "outputs": [
    {
     "name": "stdout",
     "output_type": "stream",
     "text": [
      " *       * \n",
      " *       *  \n",
      " *       * \n",
      " *       *\n",
      "   * * *  * \n"
     ]
    }
   ],
   "source": [
    "#u\n",
    "for a in range(6):\n",
    "    if a==1:\n",
    "        print(\" *       * \")\n",
    "    elif a==2:\n",
    "        print(\" *       *  \")\n",
    "    elif a==3:\n",
    "        print(\" *       * \")\n",
    "    elif a==4: \n",
    "        print(\" *       *\")\n",
    "    elif a==5:\n",
    "        print(\"   * * *  * \")\n",
    "    "
   ]
  },
  {
   "cell_type": "code",
   "execution_count": 36,
   "id": "8e9f0723",
   "metadata": {},
   "outputs": [
    {
     "name": "stdout",
     "output_type": "stream",
     "text": [
      " *         * \n",
      "  *       * \n",
      "   *     * \n",
      "    *   * \n",
      "      *   \n"
     ]
    }
   ],
   "source": [
    "#v\n",
    "for a in range(6):\n",
    "    if a==1:\n",
    "        print(\" *         * \")\n",
    "    elif a==2:\n",
    "        print(\"  *       * \")\n",
    "    elif a==3:\n",
    "        print(\"   *     * \")\n",
    "    elif a==4: \n",
    "        print(\"    *   * \")\n",
    "    elif a==5:\n",
    "        print(\"      *   \")\n",
    "    "
   ]
  },
  {
   "cell_type": "code",
   "execution_count": 42,
   "id": "9ed54d40",
   "metadata": {},
   "outputs": [
    {
     "name": "stdout",
     "output_type": "stream",
     "text": [
      "*          * \n",
      "*          *\n",
      "*    **    * \n",
      " *   * *  * \n",
      "   *    *    \n"
     ]
    }
   ],
   "source": [
    "#w\n",
    "for a in range(6):\n",
    "    if a==1:\n",
    "        print(\"*          * \")\n",
    "    elif a==2:\n",
    "        print(\"*          *\")\n",
    "    elif a==3:\n",
    "        print(\"*    **    * \")\n",
    "    elif a==4: \n",
    "        print(\" *   * *  * \")\n",
    "    elif a==5:\n",
    "        print(\"   *    *    \")\n",
    "    \n",
    "    "
   ]
  },
  {
   "cell_type": "code",
   "execution_count": 44,
   "id": "75815c65",
   "metadata": {},
   "outputs": [
    {
     "name": "stdout",
     "output_type": "stream",
     "text": [
      " *       *\n",
      "   *   *  \n",
      "     *     \n",
      "   *   *  \n",
      " *       *\n"
     ]
    }
   ],
   "source": [
    "#x\n",
    "for a in range(6):\n",
    "    if a==1:\n",
    "        print(\" *       *\")\n",
    "    elif a==2:\n",
    "        print(\"   *   *  \")\n",
    "    elif a==3:\n",
    "        print(\"     *     \")\n",
    "    elif a==4:\n",
    "        print(\"   *   *  \")\n",
    "    elif a==5:\n",
    "        print(\" *       *\")\n",
    "  "
   ]
  },
  {
   "cell_type": "code",
   "execution_count": 45,
   "id": "65b3a2dc",
   "metadata": {},
   "outputs": [
    {
     "name": "stdout",
     "output_type": "stream",
     "text": [
      " *      * \n",
      " *      *\n",
      "  * * * * \n",
      "        *\n",
      "  * * * \n"
     ]
    }
   ],
   "source": [
    "#y\n",
    "for a in range(6):\n",
    "    if a==1:\n",
    "        print(\" *      * \")\n",
    "    elif a==2:\n",
    "        print(\" *      *\")\n",
    "    elif a==3:\n",
    "        print(\"  * * * * \")\n",
    "    elif a==4: \n",
    "        print(\"        *\")\n",
    "    elif a==5:\n",
    "        print(\"  * * * \")\n",
    "    \n",
    "    "
   ]
  },
  {
   "cell_type": "code",
   "execution_count": 46,
   "id": "96f489f6",
   "metadata": {},
   "outputs": [
    {
     "name": "stdout",
     "output_type": "stream",
     "text": [
      "* * * * \n",
      "     * \n",
      "    * \n",
      "  *\n",
      "* * * * \n"
     ]
    }
   ],
   "source": [
    "#z\n",
    "for a in range(6):\n",
    "    if a==1:\n",
    "        print(\"* * * * \")\n",
    "    elif a==2:\n",
    "        print(\"     * \")\n",
    "    elif a==3:\n",
    "        print(\"    * \")\n",
    "    elif a==4: \n",
    "        print(\"  *\")\n",
    "    elif a==5:\n",
    "        print(\"* * * * \")\n",
    "    \n",
    "    \n",
    "    "
   ]
  },
  {
   "cell_type": "code",
   "execution_count": null,
   "id": "780a2eee",
   "metadata": {},
   "outputs": [],
   "source": []
  },
  {
   "cell_type": "code",
   "execution_count": null,
   "id": "6e3dbc06",
   "metadata": {},
   "outputs": [],
   "source": []
  }
 ],
 "metadata": {
  "kernelspec": {
   "display_name": "Python 3 (ipykernel)",
   "language": "python",
   "name": "python3"
  },
  "language_info": {
   "codemirror_mode": {
    "name": "ipython",
    "version": 3
   },
   "file_extension": ".py",
   "mimetype": "text/x-python",
   "name": "python",
   "nbconvert_exporter": "python",
   "pygments_lexer": "ipython3",
   "version": "3.9.13"
  }
 },
 "nbformat": 4,
 "nbformat_minor": 5
}
